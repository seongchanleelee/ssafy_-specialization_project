{
 "cells": [
  {
   "cell_type": "code",
   "execution_count": 14,
   "id": "29959c62",
   "metadata": {},
   "outputs": [
    {
     "name": "stdout",
     "output_type": "stream",
     "text": [
      "시작\n",
      "--- [ 90 ~ 91 ]  # 종료 9.183725595474243 초 ---\n"
     ]
    }
   ],
   "source": [
    "import nabc\n",
    "import time\n",
    "from multiprocessing import Pool\n",
    "import pandas as pd\n",
    "\n",
    "# 10개 기준 약 12분\n",
    "# 100개 기준 약 2시간 덜 걸림\n",
    "# 300개 기준 약 6시간 덜 걸림\n",
    "# 9810 - 11773\n",
    "start_num = 90        #관광지 시작 번호 - 끝번호 그대로 넣고 시작\n",
    "last_num = 91        #관광지 끝 번호 \n",
    "\n",
    "start_time = time.time()\n",
    "\n",
    "df = pd.read_csv(\"관광지목록.csv\", encoding='utf-8')\n",
    "word_origin = df['명칭'].values.tolist()\n",
    "word = word_origin[start_num:last_num]\n",
    "# print(word)\n",
    "\n",
    "start_time = time.time()\n",
    "print(\"시작\")\n",
    "pool = Pool(processes=8)\n",
    "pool.map(nabc.travel, word) \n",
    "\n",
    "print(\"[ %d ~ %d ]  # 종료 %s 초\" %(start_num, last_num, (time.time() - start_time)))"
   ]
  },
  {
   "cell_type": "code",
   "execution_count": null,
   "id": "4b71f3e4",
   "metadata": {},
   "outputs": [],
   "source": []
  },
  {
   "cell_type": "code",
   "execution_count": null,
   "id": "4352146f",
   "metadata": {},
   "outputs": [],
   "source": [
    "# *************** 필독 *****************\n",
    "# 크롤링이 완료되면 하단의 코드 실행.\n",
    "# data 폴더에 csv 파일만 남기고 모두 지우고 실행해 주세요. (배치파일 포함)\n",
    "# 결과는 data폴더가 아닌 상단 폴더에 total.csv로 생성됩니다.\n",
    "# 크롤링한 csv파일 삭제하지 말아주세요."
   ]
  },
  {
   "cell_type": "code",
   "execution_count": null,
   "id": "bcab914c",
   "metadata": {},
   "outputs": [],
   "source": [
    "\n",
    "import pandas as pd\n",
    "import numpy as np\n",
    "import os\n",
    "\n",
    "# 파일들이 있는 폴더명으로 폴더내 파일 목록 확인\n",
    "forders = os.listdir('data')\n",
    "print(forders)\n",
    "\n",
    "df_all = pd.DataFrame()\n",
    "for i in range(0,len(forders)):\n",
    "    if forders[i].split('.')[1] == 'csv':\n",
    "        file = 'data/'+forders[i]\n",
    "        df= pd.read_csv(file,encoding='utf-8') \n",
    "        df_all = pd.concat([df_all, df])\n",
    "        \n",
    "df_all\n",
    "df_all.to_csv(\"total.csv\", index=False) \n"
   ]
  },
  {
   "cell_type": "code",
   "execution_count": null,
   "id": "941f0b7c",
   "metadata": {},
   "outputs": [],
   "source": []
  },
  {
   "cell_type": "code",
   "execution_count": null,
   "id": "fd9f09e3",
   "metadata": {},
   "outputs": [],
   "source": [
    "# 데이터 전처리\n",
    "import pandas as pd\n",
    "\n",
    "df = pd.read_csv('total.csv', sep=',', encoding='utf-8')\n",
    "\n",
    "df = df.replace(',', ' ', regex=True)\n",
    "# df = df.replace('.', ' ', regex=True)\n",
    "df = df.replace(';', ' ', regex=True)\n",
    "df = df.replace('\\n', ' ', regex=True)\n",
    "\n",
    "# df = df.replace(r'\"', '', regex=True)\n",
    "# df = df.replace(r'!\"', '', regex=True)\n",
    "# df = df.replace(r'.\"', '', regex=True)\n",
    "\n",
    "# df = df.replace(to_replace='.', value='')\n",
    "# df = df.replace('(.*)<b>(.*)', ' ', regex=True)\n",
    "# df = df.replace(to_replace='<b>', value=' ', regex=True)\n",
    "# df = df.replace(to_replace='<\\/b>', value=' ')\n",
    "df = df.drop('제목', axis=1)\n",
    "df = df.drop('링크', axis=1)\n",
    "\n",
    "# df\n",
    "# df.tail(10)\n",
    "df.to_csv('total2.csv', sep=',',index=False)"
   ]
  },
  {
   "cell_type": "code",
   "execution_count": null,
   "id": "5afe1035",
   "metadata": {},
   "outputs": [],
   "source": [
    "# 데이터 분할"
   ]
  },
  {
   "cell_type": "code",
   "execution_count": null,
   "id": "d0f0c598",
   "metadata": {},
   "outputs": [],
   "source": [
    "# 최대 길이 25만자에서 자르기\n",
    "\n",
    "import pandas as pd\n",
    "# 250000 으로 자름\n",
    "# df = pd.read_csv('eunji_001 - 복사본.csv', sep=',', encoding='utf-8')\n",
    "df = pd.read_csv('heejoo.csv', sep=',', encoding='utf-8')\n",
    "\n",
    "# df\n",
    "# df = df.astype({'place_no':'int'})\n",
    "# df.dtypes\n",
    "# df.head(10)\n",
    "print(df.count())\n",
    "dflen = df['관광지'].count().astype(int)\n",
    "# print(dflen)\n",
    "# print(df['관광지'].size)\n",
    "# print(df['내용'].size)\n",
    "#df['내용'].argmax()\n",
    "# df.dtypes\n",
    "\n",
    "\n",
    "df.isnull().sum() #결측치 확인\n",
    "df = df.fillna(\" \") #결측치 채우기\n",
    "# max(df['내용'][*],key=len)\n",
    "max = 0\n",
    "row = 0\n",
    "\n",
    "\n",
    "# 25만자 넘는거 자르기\n",
    "for i in range(dflen):\n",
    "    temp = len(df['내용'][i])\n",
    "    if temp > 300000 :\n",
    "        df['내용'][i] = df['내용'][i][0:250000]\n",
    "\n",
    "#가장긴 글 확인\n",
    "for i in range(dflen):\n",
    "    temp = len(df['내용'][i])\n",
    "#     print(temp)\n",
    "    if max < temp :\n",
    "        max = temp\n",
    "        row = i\n",
    "\n",
    "\n",
    "print(max)\n",
    "print(row)\n",
    "df.head()\n",
    "\n",
    "\n",
    "# df.tail(10)\n",
    "df.to_csv('heejoo-1.csv', sep=',',index=False)"
   ]
  }
 ],
 "metadata": {
  "kernelspec": {
   "display_name": "Python 3 (ipykernel)",
   "language": "python",
   "name": "python3"
  },
  "language_info": {
   "codemirror_mode": {
    "name": "ipython",
    "version": 3
   },
   "file_extension": ".py",
   "mimetype": "text/x-python",
   "name": "python",
   "nbconvert_exporter": "python",
   "pygments_lexer": "ipython3",
   "version": "3.9.13"
  }
 },
 "nbformat": 4,
 "nbformat_minor": 5
}
